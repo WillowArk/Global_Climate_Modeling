{
 "cells": [
  {
   "cell_type": "code",
   "execution_count": 1,
   "id": "4cdd8c08-00b3-42c2-8709-66224bdc0c37",
   "metadata": {
    "tags": []
   },
   "outputs": [],
   "source": [
    "import torch\n",
    "from torch import nn\n",
    "from torch.utils.data import DataLoader\n",
    "import matplotlib.pyplot as plt\n",
    "import torchvision\n",
    "from torchvision import datasets\n",
    "from torchvision.transforms import ToTensor\n",
    "from timeit import default_timer as timer\n",
    "from tqdm.auto import tqdm\n",
    "import xarray\n",
    "import numpy as np\n",
    "import pandas as pd\n",
    "import torch.utils.data as data_utils\n",
    "from pathlib import Path\n",
    "from timeit import default_timer as timer"
   ]
  },
  {
   "cell_type": "code",
   "execution_count": 2,
   "id": "af3a96e2-5996-43df-8cd0-448ae8108412",
   "metadata": {
    "tags": []
   },
   "outputs": [
    {
     "data": {
      "text/plain": [
       "'cuda'"
      ]
     },
     "execution_count": 2,
     "metadata": {},
     "output_type": "execute_result"
    }
   ],
   "source": [
    "device = \"cuda\" if torch.cuda.is_available() else \"cpu\"\n",
    "device"
   ]
  },
  {
   "cell_type": "code",
   "execution_count": 3,
   "id": "d416159a-2c04-4b91-bb48-abb1d02530de",
   "metadata": {
    "tags": []
   },
   "outputs": [
    {
     "data": {
      "text/plain": [
       "((61, 57), (12784, 61, 57), (12784, 25, 23))"
      ]
     },
     "execution_count": 3,
     "metadata": {},
     "output_type": "execute_result"
    }
   ],
   "source": [
    "#Load Data\n",
    "dem = xarray.open_dataset(\"USGS_DEM_upscaled.nc\")[\"DEM\"].astype(np.float32)\n",
    "\n",
    "hr_data = xarray.open_dataset(\"davg_t2m_era5-high.nc\")[\"t2m\"]\n",
    "lr_data = xarray.open_dataset(\"davg_t2m_era5-low.nc\")[\"t2m\"]\n",
    "dem.shape, hr_data.shape, lr_data.shape"
   ]
  },
  {
   "cell_type": "code",
   "execution_count": 15,
   "id": "8125a0f6-c91c-4211-bfbd-87e92d34e4e0",
   "metadata": {
    "tags": []
   },
   "outputs": [],
   "source": [
    "dem = dem.fillna(0)\n",
    "hr_data = hr_data.fillna(0)\n",
    "lr_data = lr_data.fillna(0)"
   ]
  },
  {
   "cell_type": "code",
   "execution_count": 16,
   "id": "e2c44b50-3bf1-49e1-991f-c1a85604abe3",
   "metadata": {
    "tags": []
   },
   "outputs": [],
   "source": [
    "scaled_lr = lr_data.interp(latitude=hr_data.latitude, longitude=hr_data.longitude, method=\"nearest\")\n",
    "scaled_lr = scaled_lr.fillna(0)"
   ]
  },
  {
   "cell_type": "code",
   "execution_count": 17,
   "id": "63d8c5f3-ee67-4f80-a89a-a9ae15ab3a3b",
   "metadata": {
    "tags": []
   },
   "outputs": [],
   "source": [
    "np_lr = scaled_lr.to_numpy()\n",
    "np_hr = hr_data.to_numpy()\n",
    "np_dem = dem.to_numpy()\n",
    "np_lats = hr_data.latitude.to_numpy()\n",
    "np_lons = hr_data.longitude.to_numpy()\n",
    "pd_dates = pd.to_datetime(hr_data.time)\n",
    "np_year, np_month, np_day = pd_dates.year.to_numpy(), pd_dates.month.to_numpy(), pd_dates.day.to_numpy()"
   ]
  },
  {
   "cell_type": "code",
   "execution_count": 18,
   "id": "39c432bc-f57b-4676-94c9-adb0b8b4a8a0",
   "metadata": {
    "tags": []
   },
   "outputs": [],
   "source": [
    "ten_lr = torch.Tensor(np_lr)\n",
    "ten_hr = torch.Tensor(np_hr)\n",
    "ten_dem = torch.Tensor(np_dem)\n",
    "ten_lats = torch.Tensor(np_lats)\n",
    "ten_lons = torch.Tensor(np_lons)\n",
    "ten_month = torch.Tensor(np_month)"
   ]
  },
  {
   "cell_type": "code",
   "execution_count": 19,
   "id": "d6f5cb55-3c8e-479d-9380-acaf4e23f60e",
   "metadata": {
    "tags": []
   },
   "outputs": [],
   "source": [
    "lr_feature = ten_lr.unsqueeze(dim=3)\n",
    "dem_feature = ten_dem.unsqueeze(dim=2).unsqueeze(dim=0).expand(len(ten_lr), -1, -1,-1)\n",
    "lats_grid, lons_grid = torch.meshgrid(ten_lats, ten_lons, indexing='ij')\n",
    "lats_feature = lats_grid.unsqueeze(dim=0).expand(len(ten_lr), -1, -1).unsqueeze(dim=3)\n",
    "lons_feature = lons_grid.unsqueeze(dim=0).expand(len(ten_lr), -1, -1).unsqueeze(dim=3)\n",
    "month_feature = ten_month.unsqueeze(dim=1).unsqueeze(dim=1).unsqueeze(dim=1).expand(-1, len(np_lats), len(np_lons), -1)"
   ]
  },
  {
   "cell_type": "code",
   "execution_count": 20,
   "id": "822da8df-95c6-4ade-9427-6584a291702b",
   "metadata": {
    "tags": []
   },
   "outputs": [],
   "source": [
    "#Removing Coast/Ocean Temps\n",
    "mask = ten_hr > 0\n",
    "m_hr = ten_hr[mask]\n",
    "m_lr = ten_lr[mask]\n",
    "m_dem, m_lats, m_lons, m_months = dem_feature.squeeze(), lats_feature.squeeze(), lons_feature.squeeze(), month_feature.squeeze()\n",
    "m_dem, m_lats, m_lons, m_months = m_dem[mask], m_lats[mask], m_lons[mask], m_months[mask]"
   ]
  },
  {
   "cell_type": "code",
   "execution_count": 21,
   "id": "5abca463-ba16-4bab-955e-ec1ec0419437",
   "metadata": {
    "tags": []
   },
   "outputs": [],
   "source": [
    "def trainModel(model: nn.Module, train_data_loader: torch.utils.data.DataLoader, test_data_loader: torch.utils.data.DataLoader,\n",
    "              loss_fn: torch.nn.Module, lr: float =0.01, epochs:int = 5, device: torch.device = device):\n",
    "    optimizer = torch.optim.SGD(model.parameters(), lr=lr)\n",
    "    model.to(device = device)\n",
    "    train_num_batches = len(train_data_loader)\n",
    "    test_num_batches = len(test_data_loader)\n",
    "    avg_losses = []\n",
    "    start_time = timer()\n",
    "    for epoch in range(0, epochs):\n",
    "        batch_num = 0\n",
    "        completion_rate = 0\n",
    "        avg_train_loss = 0\n",
    "        avg_tenth_loss = 0\n",
    "        tl = 0\n",
    "        for batch, (X, y) in enumerate(train_data_loader):\n",
    "            # Send data to GPU\n",
    "            X, y = X.to(device), y.to(device)\n",
    "\n",
    "            # 1. Forward pass\n",
    "            y_pred = model(X)\n",
    "\n",
    "            # 2. Calculate loss\n",
    "            loss = loss_fn(y_pred, y)\n",
    "            avg_train_loss = avg_train_loss + loss\n",
    "            avg_tenth_loss = avg_tenth_loss + loss\n",
    "            # 3. Optimizer zero grad\n",
    "            optimizer.zero_grad()\n",
    "\n",
    "            # 4. Loss backward\n",
    "            loss.backward()\n",
    "            \n",
    "            # 5. Optimizer step\n",
    "            optimizer.step()\n",
    "\n",
    "            batch_num = batch_num + 1\n",
    "            tl = tl + 1\n",
    "            if batch_num % (train_num_batches // 10) == 0:\n",
    "                completion_rate = completion_rate + 1\n",
    "                avg_tenth_loss = avg_tenth_loss / tl\n",
    "                avg_losses.append(avg_tenth_loss.to(\"cpu\").detach().numpy())\n",
    "                print(f\"Train Batch: {batch_num} ({completion_rate}0% complete.) | Tenth Loss: {avg_tenth_loss}\")\n",
    "                tl = 0\n",
    "                avg_tenth_loss = 0\n",
    "\n",
    "        ### Testing\n",
    "\n",
    "        model.eval()\n",
    "        batch_num = 0\n",
    "        completion_rate = 0\n",
    "        avg_test_loss = 0\n",
    "        with torch.inference_mode():\n",
    "            for batch, (X,y) in enumerate(test_data_loader):\n",
    "                # Send data to GPU\n",
    "                X, y = X.to(device), y.to(device)\n",
    "\n",
    "                # 1. Forward pass\n",
    "                test_pred = model(X)\n",
    "\n",
    "                #2 Calculate loss\n",
    "                test_loss = loss_fn(test_pred, y)\n",
    "                avg_test_loss = avg_test_loss + loss\n",
    "                \n",
    "                batch_num = batch_num + 1\n",
    "                if batch_num % (test_num_batches // 10) == 0:\n",
    "                    completion_rate = completion_rate + 1\n",
    "                    print(f\"Test Batch: {batch_num} ({completion_rate}0% complete.)\")\n",
    "        # Print out what's happening\n",
    "        if epoch % 1 == 0:\n",
    "            print(f\"Epoch: {epoch} | Train Loss: {(avg_train_loss/train_num_batches):.5f} | Test Loss: {(avg_test_loss/test_num_batches):.5f}\")\n",
    "        end_time = timer()\n",
    "    print(f\"Time Took: {(end_time-start_time)}s\")\n",
    "    return avg_losses\n",
    "    "
   ]
  },
  {
   "cell_type": "code",
   "execution_count": 22,
   "id": "bfa65197-89b9-4559-8444-9f9772b640fa",
   "metadata": {},
   "outputs": [],
   "source": [
    "#TODO: Shuffle X and Y Together\n",
    "def trainTestLoaders(X_tensor: torch.Tensor, y_tensor: torch.Tensor, split=.8, BATCH_SIZE=3417, shuffle=True):\n",
    "    numX = len(X_tensor[0])\n",
    "    np_tensor = torch.cat((X_tensor,y_tensor), dim=1).detach().numpy()\n",
    "    np.random.shuffle(np_tensor)\n",
    "    np_tensor = torch.tensor(np_tensor)\n",
    "    X_tensor, y_tensor = torch.split(np_tensor, [numX, 1], dim=1)\n",
    "    train_split = int(len(X_tensor) * split)\n",
    "    X_train, y_train = X_tensor[:train_split], y_tensor[:train_split]\n",
    "    X_test, y_test = X_tensor[train_split:], y_tensor[train_split:]\n",
    "    train = data_utils.TensorDataset(X_train, y_train)\n",
    "    test = data_utils.TensorDataset(X_test, y_test)\n",
    "    return data_utils.DataLoader(train, batch_size=BATCH_SIZE, shuffle=False), data_utils.DataLoader(test, batch_size=BATCH_SIZE, shuffle=False)"
   ]
  },
  {
   "cell_type": "code",
   "execution_count": 23,
   "id": "e8cf1628-3824-4d74-b96f-b16efbdf909f",
   "metadata": {
    "tags": []
   },
   "outputs": [],
   "source": [
    "def saveModel(model: nn.Module):\n",
    "    MODEL_PATH = Path(\"models\")\n",
    "    MODEL_PATH.mkdir(parents=True, exist_ok=True)\n",
    "\n",
    "    MODEL_NAME = model.__class__.__name__+\".pth\"\n",
    "    MODEL_SAVE_PATH = MODEL_PATH / MODEL_NAME\n",
    "\n",
    "    print(f\"Saving model to: {MODEL_SAVE_PATH}\")\n",
    "    torch.save(obj=model.state_dict(), f=MODEL_SAVE_PATH)"
   ]
  },
  {
   "cell_type": "code",
   "execution_count": 24,
   "id": "41974468-f01c-4106-869b-e85df4471c7a",
   "metadata": {},
   "outputs": [],
   "source": [
    "BATCH_SIZE = 2693 #Number of non-zero temps in an hr timestamp"
   ]
  },
  {
   "cell_type": "code",
   "execution_count": 42,
   "id": "3547c35f-6d4d-443c-8a4e-608b29036eaf",
   "metadata": {
    "tags": []
   },
   "outputs": [
    {
     "data": {
      "text/plain": [
       "(torch.Size([44449968, 1]), torch.Size([44449968, 1]))"
      ]
     },
     "execution_count": 42,
     "metadata": {},
     "output_type": "execute_result"
    }
   ],
   "source": [
    "X_tensor1a = torch.flatten(ten_lr).unsqueeze(dim=1)\n",
    "y_tensor1a = torch.flatten(ten_hr).unsqueeze(dim=1)\n",
    "loss_fn = nn.L1Loss()\n",
    "train_loader, test_loader = trainTestLoaders(X_tensor1a, y_tensor1a, split=.8, BATCH_SIZE=BATCH_SIZE)"
   ]
  },
  {
   "cell_type": "code",
   "execution_count": 38,
   "id": "a6dade9e-0bc2-42ae-8413-635560ae6c03",
   "metadata": {
    "tags": []
   },
   "outputs": [
    {
     "data": {
      "text/plain": [
       "GC_ModelV1a(\n",
       "  (layer_1): Linear(in_features=1, out_features=10, bias=True)\n",
       "  (layer_2): Linear(in_features=10, out_features=10, bias=True)\n",
       "  (layer_3): Linear(in_features=10, out_features=1, bias=True)\n",
       "  (relu): ReLU()\n",
       ")"
      ]
     },
     "execution_count": 38,
     "metadata": {},
     "output_type": "execute_result"
    }
   ],
   "source": [
    "'''\n",
    "Model_1a\n",
    "Inputs: [lr]\n",
    "'''\n",
    "class GC_ModelV1a(nn.Module):\n",
    "    def __init__(self):\n",
    "        super().__init__()\n",
    "        self.layer_1 = nn.Linear(in_features=1, out_features=10)\n",
    "        self.layer_2 = nn.Linear(in_features=10, out_features=10)\n",
    "        self.layer_3 = nn.Linear(in_features=10, out_features=1)\n",
    "        self.relu = nn.ReLU()\n",
    "    \n",
    "    def forward(self, x):\n",
    "        return self.layer_3(self.relu(self.layer_2(self.relu(self.layer_1(x))))) \n",
    "\n",
    "\n",
    "model_1a = GC_ModelV1a().to(device)\n",
    "model_1a"
   ]
  },
  {
   "cell_type": "code",
   "execution_count": 45,
   "id": "58842f78-34a9-482d-8d4d-19853b1990be",
   "metadata": {
    "tags": []
   },
   "outputs": [
    {
     "name": "stdout",
     "output_type": "stream",
     "text": [
      "Saving model to: models\\GC_ModelV1a.pth\n"
     ]
    }
   ],
   "source": [
    "saveModel(model_1a)"
   ]
  },
  {
   "cell_type": "code",
   "execution_count": 69,
   "id": "491486c6-2753-4e02-b71a-857f6acceb6c",
   "metadata": {},
   "outputs": [],
   "source": [
    "X_tensor2 = torch.stack((nz_lr, nz_dem), dim=1)\n",
    "y_tensor2 = nz_hr.unsqueeze(dim=1)\n",
    "loss_fn = nn.L1Loss()\n",
    "train_loader, test_loader = trainTestLoaders(X_tensor2, y_tensor2, split=.8, BATCH_SIZE=(3417*5))"
   ]
  },
  {
   "cell_type": "code",
   "execution_count": 70,
   "id": "28604c59-3809-4dd9-a274-58dd242f2ccf",
   "metadata": {},
   "outputs": [
    {
     "data": {
      "text/plain": [
       "GC_ModelV2a(\n",
       "  (layer_1): Linear(in_features=2, out_features=10, bias=True)\n",
       "  (layer_2): Linear(in_features=10, out_features=10, bias=True)\n",
       "  (layer_3): Linear(in_features=10, out_features=1, bias=True)\n",
       "  (relu): ReLU()\n",
       ")"
      ]
     },
     "execution_count": 70,
     "metadata": {},
     "output_type": "execute_result"
    }
   ],
   "source": [
    "'''\n",
    "Model_2a\n",
    "Inputs: [lr, dem]\n",
    "Train Loss: 67.75770 | Test Loss: 85.44188 | Time Took: -3012.1383839999908s | Epochs: 6 | Device = cuda\n",
    "Train Loss: 68.39629 | Test Loss: 74.81484 | Time Took: Time Took: 928.9899505999638s | Epochs: 2\n",
    "Masking 0 temps:\n",
    "'''\n",
    "class GC_ModelV2a(nn.Module):\n",
    "    def __init__(self):\n",
    "        super().__init__()\n",
    "        self.layer_1 = nn.Linear(in_features=2, out_features=10)\n",
    "        self.layer_2 = nn.Linear(in_features=10, out_features=10)\n",
    "        self.layer_3 = nn.Linear(in_features=10, out_features=1)\n",
    "        self.relu = nn.ReLU()\n",
    "    \n",
    "    def forward(self, x):\n",
    "        return self.layer_3(self.relu(self.layer_2(self.relu(self.layer_1(x))))) \n",
    "\n",
    "\n",
    "model_2a = GC_ModelV2a().to(device)\n",
    "model_2a"
   ]
  },
  {
   "cell_type": "code",
   "execution_count": 71,
   "id": "4f8109e8-59ae-47bc-b197-f6f39e3ae6b0",
   "metadata": {
    "tags": []
   },
   "outputs": [
    {
     "name": "stdout",
     "output_type": "stream",
     "text": [
      "Train Batch: 161 (10% complete.) | Tenth Loss: 290.6603698730469\n",
      "Train Batch: 322 (20% complete.) | Tenth Loss: 286.3780822753906\n",
      "Train Batch: 483 (30% complete.) | Tenth Loss: 191.93678283691406\n",
      "Train Batch: 644 (40% complete.) | Tenth Loss: 6.660990238189697\n",
      "Train Batch: 805 (50% complete.) | Tenth Loss: 6.666520118713379\n",
      "Train Batch: 966 (60% complete.) | Tenth Loss: 6.66349983215332\n",
      "Train Batch: 1127 (70% complete.) | Tenth Loss: 6.658639430999756\n",
      "Train Batch: 1288 (80% complete.) | Tenth Loss: 6.662458419799805\n",
      "Train Batch: 1449 (90% complete.) | Tenth Loss: 6.661226749420166\n",
      "Train Batch: 1610 (100% complete.) | Tenth Loss: 6.667652606964111\n",
      "Test Batch: 40 (10% complete.)\n",
      "Test Batch: 80 (20% complete.)\n",
      "Test Batch: 120 (30% complete.)\n",
      "Test Batch: 160 (40% complete.)\n",
      "Test Batch: 200 (50% complete.)\n",
      "Test Batch: 240 (60% complete.)\n",
      "Test Batch: 280 (70% complete.)\n",
      "Test Batch: 320 (80% complete.)\n",
      "Test Batch: 360 (90% complete.)\n",
      "Test Batch: 400 (100% complete.)\n",
      "Epoch: 0 | Train Loss: 81.42224 | Test Loss: 6.62338\n",
      "Train Batch: 161 (10% complete.) | Tenth Loss: 6.658877372741699\n",
      "Train Batch: 322 (20% complete.) | Tenth Loss: 6.6638569831848145\n",
      "Train Batch: 483 (30% complete.) | Tenth Loss: 6.6554155349731445\n",
      "Train Batch: 644 (40% complete.) | Tenth Loss: 6.656821250915527\n",
      "Train Batch: 805 (50% complete.) | Tenth Loss: 6.6628546714782715\n",
      "Train Batch: 966 (60% complete.) | Tenth Loss: 6.660636901855469\n",
      "Train Batch: 1127 (70% complete.) | Tenth Loss: 6.656036376953125\n",
      "Train Batch: 1288 (80% complete.) | Tenth Loss: 6.659939765930176\n",
      "Train Batch: 1449 (90% complete.) | Tenth Loss: 6.65879487991333\n",
      "Train Batch: 1610 (100% complete.) | Tenth Loss: 6.665436267852783\n",
      "Test Batch: 40 (10% complete.)\n",
      "Test Batch: 80 (20% complete.)\n",
      "Test Batch: 120 (30% complete.)\n",
      "Test Batch: 160 (40% complete.)\n",
      "Test Batch: 200 (50% complete.)\n",
      "Test Batch: 240 (60% complete.)\n",
      "Test Batch: 280 (70% complete.)\n",
      "Test Batch: 320 (80% complete.)\n",
      "Test Batch: 360 (90% complete.)\n",
      "Test Batch: 400 (100% complete.)\n",
      "Epoch: 1 | Train Loss: 6.65983 | Test Loss: 6.62307\n",
      "Time Took: 861.0400098999962s\n"
     ]
    },
    {
     "data": {
      "text/plain": [
       "[array(290.66037, dtype=float32),\n",
       " array(286.37808, dtype=float32),\n",
       " array(191.93678, dtype=float32),\n",
       " array(6.66099, dtype=float32),\n",
       " array(6.66652, dtype=float32),\n",
       " array(6.6635, dtype=float32),\n",
       " array(6.6586394, dtype=float32),\n",
       " array(6.6624584, dtype=float32),\n",
       " array(6.6612267, dtype=float32),\n",
       " array(6.6676526, dtype=float32),\n",
       " array(6.6588774, dtype=float32),\n",
       " array(6.663857, dtype=float32),\n",
       " array(6.6554155, dtype=float32),\n",
       " array(6.6568213, dtype=float32),\n",
       " array(6.6628547, dtype=float32),\n",
       " array(6.660637, dtype=float32),\n",
       " array(6.6560364, dtype=float32),\n",
       " array(6.65994, dtype=float32),\n",
       " array(6.658795, dtype=float32),\n",
       " array(6.6654363, dtype=float32)]"
      ]
     },
     "execution_count": 71,
     "metadata": {},
     "output_type": "execute_result"
    }
   ],
   "source": [
    "trainModel(model_2a, train_loader, test_loader, loss_fn, epochs=1, device = device)"
   ]
  },
  {
   "cell_type": "code",
   "execution_count": 67,
   "id": "43de8e8c-7222-4ab5-8c27-b6c3002ecbef",
   "metadata": {
    "tags": []
   },
   "outputs": [
    {
     "name": "stdout",
     "output_type": "stream",
     "text": [
      "Saving model to: models\\GC_ModelV2b.pth\n"
     ]
    }
   ],
   "source": [
    "#saveModel(model_2b)"
   ]
  },
  {
   "cell_type": "code",
   "execution_count": 68,
   "id": "773695d3-adf5-4475-8e62-0a7ff70076c4",
   "metadata": {
    "tags": []
   },
   "outputs": [],
   "source": [
    "X_tensor3 = torch.flatten(torch.cat((lr_feature, dem_feature, coords_feature), dim=3), end_dim=2)\n",
    "y_tensor3 = torch.flatten(ten_hr).unsqueeze(dim=1)\n",
    "loss_fn = nn.L1Loss()\n",
    "train_loader, test_loader = trainTestLoaders(X_tensor3, y_tensor3, split=.8, BATCH_SIZE=(3417*5))"
   ]
  },
  {
   "cell_type": "code",
   "execution_count": 72,
   "id": "d455585a-d89d-4e91-90da-d630308d8c8e",
   "metadata": {
    "tags": []
   },
   "outputs": [
    {
     "data": {
      "text/plain": [
       "GC_ModelV3a(\n",
       "  (layer_1): Linear(in_features=4, out_features=10, bias=True)\n",
       "  (layer_2): Linear(in_features=10, out_features=10, bias=True)\n",
       "  (layer_3): Linear(in_features=10, out_features=1, bias=True)\n",
       "  (relu): ReLU()\n",
       ")"
      ]
     },
     "execution_count": 72,
     "metadata": {},
     "output_type": "execute_result"
    }
   ],
   "source": [
    "'''\n",
    "Model_3a\n",
    "Inputs: [lr, dem, coords]\n",
    "Train Loss: 111.43002 | Test Loss: 80.62112 | Time Took: 488.4945856999839s\n",
    "'''\n",
    "class GC_ModelV3a(nn.Module):\n",
    "    def __init__(self):\n",
    "        super().__init__()\n",
    "        self.layer_1 = nn.Linear(in_features=4, out_features=10)\n",
    "        self.layer_2 = nn.Linear(in_features=10, out_features=10)\n",
    "        self.layer_3 = nn.Linear(in_features=10, out_features=1)\n",
    "        self.relu = nn.ReLU()\n",
    "    \n",
    "    def forward(self, x):\n",
    "        return self.layer_3(self.relu(self.layer_2(self.relu(self.layer_1(x)))))\n",
    "\n",
    "\n",
    "model_3a = GC_ModelV3a().to(device)\n",
    "model_3a"
   ]
  },
  {
   "cell_type": "code",
   "execution_count": 73,
   "id": "9c644d5b-0bbd-4188-aff8-76229c518ef2",
   "metadata": {
    "tags": []
   },
   "outputs": [
    {
     "name": "stdout",
     "output_type": "stream",
     "text": [
      "Train Batch: 208 (10% complete.) | Tenth Loss: 230.4725341796875\n",
      "Train Batch: 416 (20% complete.) | Tenth Loss: 179.20709228515625\n",
      "Train Batch: 624 (30% complete.) | Tenth Loss: 148.13841247558594\n",
      "Train Batch: 832 (40% complete.) | Tenth Loss: 117.4253158569336\n",
      "Train Batch: 1040 (50% complete.) | Tenth Loss: 86.34385681152344\n",
      "Train Batch: 1248 (60% complete.) | Tenth Loss: 70.60588836669922\n",
      "Train Batch: 1456 (70% complete.) | Tenth Loss: 70.58953857421875\n",
      "Train Batch: 1664 (80% complete.) | Tenth Loss: 70.50151824951172\n",
      "Train Batch: 1872 (90% complete.) | Tenth Loss: 70.55560302734375\n",
      "Train Batch: 2080 (100% complete.) | Tenth Loss: 70.7851333618164\n",
      "Test Batch: 52 (10% complete.)\n",
      "Test Batch: 104 (20% complete.)\n",
      "Test Batch: 156 (30% complete.)\n",
      "Test Batch: 208 (40% complete.)\n",
      "Test Batch: 260 (50% complete.)\n",
      "Test Batch: 312 (60% complete.)\n",
      "Test Batch: 364 (70% complete.)\n",
      "Test Batch: 416 (80% complete.)\n",
      "Test Batch: 468 (90% complete.)\n",
      "Test Batch: 520 (100% complete.)\n",
      "Epoch: 0 | Train Loss: 111.43002 | Test Loss: 80.62112\n",
      "Time Took: 488.4945856999839s\n"
     ]
    }
   ],
   "source": [
    "losses = trainModel(model_3a, train_loader, test_loader, loss_fn, lr=.5, epochs=1, device = device)"
   ]
  },
  {
   "cell_type": "code",
   "execution_count": 75,
   "id": "649f09a3-8aeb-4ff9-b90f-917a22662593",
   "metadata": {
    "tags": []
   },
   "outputs": [
    {
     "data": {
      "text/plain": [
       "GC_ModelV3b(\n",
       "  (layer_1): Linear(in_features=4, out_features=10, bias=True)\n",
       "  (layer_2): Linear(in_features=10, out_features=10, bias=True)\n",
       "  (layer_3): Linear(in_features=10, out_features=10, bias=True)\n",
       "  (layer_4): Linear(in_features=10, out_features=1, bias=True)\n",
       "  (relu): ReLU()\n",
       ")"
      ]
     },
     "execution_count": 75,
     "metadata": {},
     "output_type": "execute_result"
    }
   ],
   "source": [
    "'''\n",
    "Model_3b\n",
    "Inputs: [lr, dem, coords_feature]\n",
    "\n",
    "'''\n",
    "class GC_ModelV3b(nn.Module):\n",
    "    def __init__(self):\n",
    "        super().__init__()\n",
    "        self.layer_1 = nn.Linear(in_features=4, out_features=10)\n",
    "        self.layer_2 = nn.Linear(in_features=10, out_features=10)\n",
    "        self.layer_3 = nn.Linear(in_features=10, out_features=10)\n",
    "        self.layer_4 = nn.Linear(in_features=10, out_features=1)\n",
    "        self.relu = nn.ReLU()\n",
    "    \n",
    "    def forward(self, x):\n",
    "        return self.layer_4(self.relu(self.layer_3(self.relu(self.layer_2(self.relu(self.layer_1(x)))))))\n",
    "\n",
    "\n",
    "model_3b = GC_ModelV3b().to(device)\n",
    "model_3b"
   ]
  },
  {
   "cell_type": "code",
   "execution_count": 76,
   "id": "cbfd36c1-98c7-4b1b-ae89-220626653fc7",
   "metadata": {
    "tags": []
   },
   "outputs": [
    {
     "name": "stdout",
     "output_type": "stream",
     "text": [
      "Train Batch: 208 (10% complete.) | Tenth Loss: 3261822.0\n",
      "Train Batch: 416 (20% complete.) | Tenth Loss: 179.1536407470703\n",
      "Train Batch: 624 (30% complete.) | Tenth Loss: 148.0850372314453\n",
      "Train Batch: 832 (40% complete.) | Tenth Loss: 117.3719253540039\n",
      "Train Batch: 1040 (50% complete.) | Tenth Loss: 86.29335021972656\n",
      "Train Batch: 1248 (60% complete.) | Tenth Loss: 70.60392761230469\n",
      "Train Batch: 1456 (70% complete.) | Tenth Loss: 70.58955383300781\n",
      "Train Batch: 1664 (80% complete.) | Tenth Loss: 70.50151824951172\n",
      "Train Batch: 1872 (90% complete.) | Tenth Loss: 70.55560302734375\n",
      "Train Batch: 2080 (100% complete.) | Tenth Loss: 70.7851333618164\n",
      "Test Batch: 52 (10% complete.)\n",
      "Test Batch: 104 (20% complete.)\n",
      "Test Batch: 156 (30% complete.)\n",
      "Test Batch: 208 (40% complete.)\n",
      "Test Batch: 260 (50% complete.)\n",
      "Test Batch: 312 (60% complete.)\n",
      "Test Batch: 364 (70% complete.)\n",
      "Test Batch: 416 (80% complete.)\n",
      "Test Batch: 468 (90% complete.)\n",
      "Test Batch: 520 (100% complete.)\n",
      "Epoch: 0 | Train Loss: 325953.84375 | Test Loss: 80.62112\n",
      "Time Took: 486.3278575000004s\n"
     ]
    }
   ],
   "source": [
    "losses = trainModel(model_3b, train_loader, test_loader, loss_fn, lr=.5, epochs=1, device = device)"
   ]
  },
  {
   "cell_type": "code",
   "execution_count": 39,
   "id": "70a77444-0e4e-4b20-9bee-625f82c2c5dd",
   "metadata": {
    "tags": []
   },
   "outputs": [],
   "source": [
    "test1 = torch.tensor([[1,1],[2,2],[3,3],[4,4],[5,5],[6,6],[7,7],[8,8],[9,9],[10,10]])\n",
    "test2 = torch.tensor([11,22,33,44,55,66,77,88,99,100]).unsqueeze(dim=1)\n",
    "test3 = torch.cat((test1, test2), dim=1).detach().numpy()\n",
    "np.random.shuffle(test3)\n",
    "test3 = torch.tensor(test3)\n",
    "test1, test2 = torch.split(test3, [1,2], dim=1)"
   ]
  },
  {
   "cell_type": "code",
   "execution_count": 40,
   "id": "cc6b2225-7b21-4ada-ab3e-b2b026212a5d",
   "metadata": {
    "tags": []
   },
   "outputs": [
    {
     "data": {
      "text/plain": [
       "(tensor([[ 7],\n",
       "         [10],\n",
       "         [ 3],\n",
       "         [ 8],\n",
       "         [ 1],\n",
       "         [ 4],\n",
       "         [ 6],\n",
       "         [ 5],\n",
       "         [ 9],\n",
       "         [ 2]]),\n",
       " tensor([[  7,  77],\n",
       "         [ 10, 100],\n",
       "         [  3,  33],\n",
       "         [  8,  88],\n",
       "         [  1,  11],\n",
       "         [  4,  44],\n",
       "         [  6,  66],\n",
       "         [  5,  55],\n",
       "         [  9,  99],\n",
       "         [  2,  22]]))"
      ]
     },
     "execution_count": 40,
     "metadata": {},
     "output_type": "execute_result"
    }
   ],
   "source": [
    "test1, test2"
   ]
  },
  {
   "cell_type": "code",
   "execution_count": 36,
   "id": "23f23429-b97c-4938-ab71-83d91fe40e7b",
   "metadata": {
    "tags": []
   },
   "outputs": [
    {
     "data": {
      "text/plain": [
       "torch.Size([44449968, 1])"
      ]
     },
     "execution_count": 36,
     "metadata": {},
     "output_type": "execute_result"
    }
   ],
   "source": [
    "mask.shape"
   ]
  },
  {
   "cell_type": "code",
   "execution_count": 32,
   "id": "2275ca1c-bca8-421e-a215-6a851ce31b8d",
   "metadata": {
    "tags": []
   },
   "outputs": [],
   "source": [
    "X_tensor4 = torch.stack((m_lr, m_dem, m_lats, m_lons, m_months), dim=1)\n",
    "y_tensor4 = m_hr.unsqueeze(dim=1)\n",
    "loss_fn = nn.L1Loss()\n",
    "train_loader, test_loader = trainTestLoaders(X_tensor4, y_tensor4, split=.8, BATCH_SIZE=(BATCH_SIZE*5))"
   ]
  },
  {
   "cell_type": "code",
   "execution_count": 29,
   "id": "eda53cf0-378c-4cd3-97f4-030a467a9125",
   "metadata": {
    "tags": []
   },
   "outputs": [
    {
     "data": {
      "text/plain": [
       "GC_ModelV4a(\n",
       "  (layer_1): Linear(in_features=5, out_features=10, bias=True)\n",
       "  (layer_2): Linear(in_features=10, out_features=10, bias=True)\n",
       "  (layer_3): Linear(in_features=10, out_features=10, bias=True)\n",
       "  (layer_4): Linear(in_features=10, out_features=1, bias=True)\n",
       "  (relu): ReLU()\n",
       ")"
      ]
     },
     "execution_count": 29,
     "metadata": {},
     "output_type": "execute_result"
    }
   ],
   "source": [
    "'''\n",
    "Model_4a\n",
    "Inputs: [lr, dem, lats, lons, month]\n",
    "'''\n",
    "class GC_ModelV4a(nn.Module):\n",
    "    def __init__(self):\n",
    "        super().__init__()\n",
    "        self.layer_1 = nn.Linear(in_features=5, out_features=10)\n",
    "        self.layer_2 = nn.Linear(in_features=10, out_features=10)\n",
    "        self.layer_3 = nn.Linear(in_features=10, out_features=10)\n",
    "        self.layer_4 = nn.Linear(in_features=10, out_features=1)\n",
    "        self.relu = nn.ReLU()\n",
    "    \n",
    "    def forward(self, x):\n",
    "        return self.layer_4(self.relu(self.layer_3(self.relu(self.layer_2(self.relu(self.layer_1(x)))))))\n",
    "\n",
    "\n",
    "model_4a = GC_ModelV4a().to(device)\n",
    "model_4a"
   ]
  },
  {
   "cell_type": "code",
   "execution_count": 34,
   "id": "7db003a5-94b6-48a1-b453-08b83179649f",
   "metadata": {
    "tags": []
   },
   "outputs": [
    {
     "name": "stdout",
     "output_type": "stream",
     "text": [
      "Train Batch: 204 (10% complete.) | Tenth Loss: 6.662045955657959\n",
      "Train Batch: 408 (20% complete.) | Tenth Loss: 6.663042068481445\n",
      "Train Batch: 612 (30% complete.) | Tenth Loss: 6.658409118652344\n",
      "Train Batch: 816 (40% complete.) | Tenth Loss: 6.661783695220947\n",
      "Train Batch: 1020 (50% complete.) | Tenth Loss: 6.666367530822754\n",
      "Train Batch: 1224 (60% complete.) | Tenth Loss: 6.665889739990234\n",
      "Train Batch: 1428 (70% complete.) | Tenth Loss: 6.65995979309082\n",
      "Train Batch: 1632 (80% complete.) | Tenth Loss: 6.659672260284424\n",
      "Train Batch: 1836 (90% complete.) | Tenth Loss: 6.6612982749938965\n",
      "Train Batch: 2040 (100% complete.) | Tenth Loss: 6.662177085876465\n",
      "Test Batch: 51 (10% complete.)\n",
      "Test Batch: 102 (20% complete.)\n",
      "Test Batch: 153 (30% complete.)\n",
      "Test Batch: 204 (40% complete.)\n",
      "Test Batch: 255 (50% complete.)\n",
      "Test Batch: 306 (60% complete.)\n",
      "Test Batch: 357 (70% complete.)\n",
      "Test Batch: 408 (80% complete.)\n",
      "Test Batch: 459 (90% complete.)\n",
      "Test Batch: 510 (100% complete.)\n",
      "Epoch: 0 | Train Loss: 6.66206 | Test Loss: 6.67523\n",
      "Time Took: 585.1157493999926s\n"
     ]
    }
   ],
   "source": [
    "losses = trainModel(model_4a, train_loader, test_loader, loss_fn, lr=.05, epochs=1, device = device)"
   ]
  },
  {
   "cell_type": "code",
   "execution_count": null,
   "id": "57e68010-ad79-444a-8050-03117f63bd21",
   "metadata": {},
   "outputs": [],
   "source": []
  }
 ],
 "metadata": {
  "kernelspec": {
   "display_name": "Python 3 (ipykernel)",
   "language": "python",
   "name": "python3"
  },
  "language_info": {
   "codemirror_mode": {
    "name": "ipython",
    "version": 3
   },
   "file_extension": ".py",
   "mimetype": "text/x-python",
   "name": "python",
   "nbconvert_exporter": "python",
   "pygments_lexer": "ipython3",
   "version": "3.11.5"
  }
 },
 "nbformat": 4,
 "nbformat_minor": 5
}
